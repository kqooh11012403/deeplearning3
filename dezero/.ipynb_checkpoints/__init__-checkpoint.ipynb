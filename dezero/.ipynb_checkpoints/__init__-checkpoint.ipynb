{
 "cells": [
  {
   "cell_type": "code",
   "execution_count": null,
   "metadata": {},
   "outputs": [],
   "source": [
    "is_simple_core = True\n",
    "\n",
    "if is_simple_core:\n",
    "    from dezero.core_simple import Variable\n",
    "    from dezero.core_simple import Function\n",
    "    from dezero.core_simple import using_config\n",
    "    from dezero.core_simple import no_grad\n",
    "    from dezero.core_simple import as_array\n",
    "    from dezero.core_simple import as_variable\n",
    "    from dezero.core_simple import setup_variable \n",
    "    \n",
    "setup_variable()"
   ]
  }
 ],
 "metadata": {
  "kernelspec": {
   "display_name": "Python 3",
   "language": "python",
   "name": "python3"
  },
  "language_info": {
   "codemirror_mode": {
    "name": "ipython",
    "version": 3
   },
   "file_extension": ".py",
   "mimetype": "text/x-python",
   "name": "python",
   "nbconvert_exporter": "python",
   "pygments_lexer": "ipython3",
   "version": "3.7.0"
  }
 },
 "nbformat": 4,
 "nbformat_minor": 2
}
